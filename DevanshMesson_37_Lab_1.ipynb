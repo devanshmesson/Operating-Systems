{
  "nbformat": 4,
  "nbformat_minor": 0,
  "metadata": {
    "colab": {
      "name": "DevanshMesson-37-Lab-1.ipynb",
      "provenance": [],
      "authorship_tag": "ABX9TyPiO7jx9Eq2baJ/12FT6B5E",
      "include_colab_link": true
    },
    "kernelspec": {
      "name": "python3",
      "display_name": "Python 3"
    }
  },
  "cells": [
    {
      "cell_type": "markdown",
      "metadata": {
        "id": "view-in-github",
        "colab_type": "text"
      },
      "source": [
        "<a href=\"https://colab.research.google.com/github/zeph0yr/Operating-Systems/blob/master/DevanshMesson_37_Lab_1.ipynb\" target=\"_parent\"><img src=\"https://colab.research.google.com/assets/colab-badge.svg\" alt=\"Open In Colab\"/></a>"
      ]
    },
    {
      "cell_type": "code",
      "metadata": {
        "id": "RYQFFxGWqE54",
        "colab_type": "code",
        "colab": {}
      },
      "source": [
        ""
      ],
      "execution_count": 3,
      "outputs": []
    },
    {
      "cell_type": "markdown",
      "metadata": {
        "id": "saI-4Oars_4t",
        "colab_type": "text"
      },
      "source": [
        "#Question-1"
      ]
    },
    {
      "cell_type": "markdown",
      "metadata": {
        "id": "lsf6enf0tCA0",
        "colab_type": "text"
      },
      "source": [
        "##Statement"
      ]
    },
    {
      "cell_type": "markdown",
      "metadata": {
        "id": "2jtFYOlDtHtb",
        "colab_type": "text"
      },
      "source": [
        "A firm is engaged in producing two products, A and B. Each unit of product A requires 2 kg of raw material and 4 labour hours for processing, whereas each unit of product B requires 3 kg of raw material and 3 hours of labour, of the same type. Every week, the firm has an availability of 60 kg of raw material and 96 labour hours. One unit of product A sold yields Rs. 40 and one unit of product B sold gives Rs. 35 as profit. Formulate this problem as a linear programming problem to determine as to how many units of each of the products should be produced per week so that the firm can earn the maximum profit."
      ]
    },
    {
      "cell_type": "markdown",
      "metadata": {
        "id": "s7ZPPQx1tNC_",
        "colab_type": "text"
      },
      "source": [
        "###Model"
      ]
    },
    {
      "cell_type": "markdown",
      "metadata": {
        "id": "_WIav2eUtQui",
        "colab_type": "text"
      },
      "source": [
        "Maximize $40x_{1}+35x_{2}$\n",
        "\n",
        "Subject to:\n",
        "\n",
        "$2x_{1}+3x_{2}<=60$\n",
        "\n",
        "$4x_{1}+3x_{2}<=96$\n",
        "  "
      ]
    },
    {
      "cell_type": "code",
      "metadata": {
        "id": "wzb32J1fwESt",
        "colab_type": "code",
        "colab": {
          "base_uri": "https://localhost:8080/",
          "height": 306
        },
        "outputId": "2e183b33-e6b2-49ed-cc60-767948becde8"
      },
      "source": [
        "!pip install pulp"
      ],
      "execution_count": 4,
      "outputs": [
        {
          "output_type": "stream",
          "text": [
            "Collecting pulp\n",
            "\u001b[?25l  Downloading https://files.pythonhosted.org/packages/c3/22/5743d7b5d69f84fb63a0b4925862522dbf80e82defcd0c447afb694f3fd0/PuLP-2.3-py3-none-any.whl (40.6MB)\n",
            "\u001b[K     |████████████████████████████████| 40.6MB 99kB/s \n",
            "\u001b[?25hCollecting amply>=0.1.2\n",
            "  Downloading https://files.pythonhosted.org/packages/7f/11/33cb09557ac838d9488779b79e05a2a3c1f3ce9747cd242ba68332736778/amply-0.1.2.tar.gz\n",
            "  Installing build dependencies ... \u001b[?25l\u001b[?25hdone\n",
            "  Getting requirements to build wheel ... \u001b[?25l\u001b[?25hdone\n",
            "    Preparing wheel metadata ... \u001b[?25l\u001b[?25hdone\n",
            "Requirement already satisfied: pyparsing in /usr/local/lib/python3.6/dist-packages (from amply>=0.1.2->pulp) (2.4.7)\n",
            "Requirement already satisfied: docutils>=0.3 in /usr/local/lib/python3.6/dist-packages (from amply>=0.1.2->pulp) (0.15.2)\n",
            "Building wheels for collected packages: amply\n",
            "  Building wheel for amply (PEP 517) ... \u001b[?25l\u001b[?25hdone\n",
            "  Created wheel for amply: filename=amply-0.1.2-cp36-none-any.whl size=16572 sha256=cb4ab006a47653f206973bb482236b2a1bfbf52bd9d4efd4739a569aea9a94d8\n",
            "  Stored in directory: /root/.cache/pip/wheels/84/18/f7/e5c3ed13ed5bb721763f77d4a924331d59ef115ce61c9d26eb\n",
            "Successfully built amply\n",
            "Installing collected packages: amply, pulp\n",
            "Successfully installed amply-0.1.2 pulp-2.3\n"
          ],
          "name": "stdout"
        }
      ]
    },
    {
      "cell_type": "markdown",
      "metadata": {
        "id": "nzRMroFXwW1b",
        "colab_type": "text"
      },
      "source": [
        "##Creating Linear Programming Problem\n"
      ]
    },
    {
      "cell_type": "code",
      "metadata": {
        "id": "ppxvuRihwqks",
        "colab_type": "code",
        "colab": {
          "base_uri": "https://localhost:8080/",
          "height": 51
        },
        "outputId": "62837c06-bde5-4b6d-805f-1b5df320488b"
      },
      "source": [
        "from pulp import *\n",
        "\n",
        "my_lp_problem = LpProblem(\"My LP Problem\", LpMaximize)\n",
        "x = LpVariable('x', lowBound=0, cat='Continuous')\n",
        "y = LpVariable('y', lowBound=0, cat='Continuous')\n",
        "\n",
        "#Objective Function \n",
        "my_lp_problem+= 40 * x + 35 * y, \"Z\"\n",
        "\n",
        "# Constraints\n",
        "my_lp_problem += 2*x+3*y<=60\n",
        "my_lp_problem+= 4*x+3*y<=96\n",
        "my_lp_problem+=x>=0\n",
        "my_lp_problem+=y>=0\n"
      ],
      "execution_count": 15,
      "outputs": [
        {
          "output_type": "stream",
          "text": [
            "/usr/local/lib/python3.6/dist-packages/pulp/pulp.py:1195: UserWarning: Spaces are not permitted in the name. Converted to '_'\n",
            "  warnings.warn(\"Spaces are not permitted in the name. Converted to '_'\")\n"
          ],
          "name": "stderr"
        }
      ]
    },
    {
      "cell_type": "code",
      "metadata": {
        "id": "KPj0aLYxz3OM",
        "colab_type": "code",
        "colab": {
          "base_uri": "https://localhost:8080/",
          "height": 272
        },
        "outputId": "c83c902f-63c9-49ac-bf4e-42d4cbef6c10"
      },
      "source": [
        "my_lp_problem"
      ],
      "execution_count": 16,
      "outputs": [
        {
          "output_type": "execute_result",
          "data": {
            "text/plain": [
              "My_LP_Problem:\n",
              "MAXIMIZE\n",
              "40*x + 35*y + 0\n",
              "SUBJECT TO\n",
              "_C1: 2 x + 3 y <= 60\n",
              "\n",
              "_C2: 4 x + 3 y <= 96\n",
              "\n",
              "_C3: x >= 0\n",
              "\n",
              "_C4: y >= 0\n",
              "\n",
              "VARIABLES\n",
              "x Continuous\n",
              "y Continuous"
            ]
          },
          "metadata": {
            "tags": []
          },
          "execution_count": 16
        }
      ]
    },
    {
      "cell_type": "code",
      "metadata": {
        "id": "OauqDQytz-dE",
        "colab_type": "code",
        "colab": {
          "base_uri": "https://localhost:8080/",
          "height": 35
        },
        "outputId": "bba740d9-59fa-4287-f100-ffad6ebe749f"
      },
      "source": [
        "my_lp_problem.solve()\n",
        "LpStatus[my_lp_problem.status]"
      ],
      "execution_count": 17,
      "outputs": [
        {
          "output_type": "execute_result",
          "data": {
            "application/vnd.google.colaboratory.intrinsic+json": {
              "type": "string"
            },
            "text/plain": [
              "'Optimal'"
            ]
          },
          "metadata": {
            "tags": []
          },
          "execution_count": 17
        }
      ]
    },
    {
      "cell_type": "code",
      "metadata": {
        "id": "I_1BV2UV0BzI",
        "colab_type": "code",
        "colab": {
          "base_uri": "https://localhost:8080/",
          "height": 51
        },
        "outputId": "7f43c570-5e26-4694-f710-4e5d3f2b02eb"
      },
      "source": [
        "for variable in my_lp_problem.variables():\n",
        "    print (\"{} = {}\".format(variable.name, variable.varValue))"
      ],
      "execution_count": 18,
      "outputs": [
        {
          "output_type": "stream",
          "text": [
            "x = 18.0\n",
            "y = 8.0\n"
          ],
          "name": "stdout"
        }
      ]
    },
    {
      "cell_type": "code",
      "metadata": {
        "id": "hv72d-iE0Eiz",
        "colab_type": "code",
        "colab": {
          "base_uri": "https://localhost:8080/",
          "height": 34
        },
        "outputId": "fdbb6c93-b0eb-4d42-c4ce-4b3528a29608"
      },
      "source": [
        "value(my_lp_problem.objective)"
      ],
      "execution_count": 19,
      "outputs": [
        {
          "output_type": "execute_result",
          "data": {
            "text/plain": [
              "1000.0"
            ]
          },
          "metadata": {
            "tags": []
          },
          "execution_count": 19
        }
      ]
    }
  ]
}